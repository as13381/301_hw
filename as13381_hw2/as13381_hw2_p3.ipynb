{
 "cells": [
  {
   "cell_type": "markdown",
   "metadata": {
    "id": "OMAdi9qgC-B9"
   },
   "source": [
    "To copy this template: File -> Save a Copy in Drive\n",
    "\n",
    "***DISCLAIMER**: In case of any discrepancy in the assignment instruction, please refer to the `PDF` document.*"
   ]
  },
  {
   "cell_type": "markdown",
   "metadata": {
    "id": "NcDhlfqyBd6m"
   },
   "source": [
    "# Problem 3 - Perceptron"
   ]
  },
  {
   "cell_type": "markdown",
   "metadata": {
    "id": "-id00ye6CNLB"
   },
   "source": [
    "## 3.1"
   ]
  },
  {
   "cell_type": "code",
   "execution_count": 2,
   "metadata": {
    "id": "TaITPmRaf-BK"
   },
   "outputs": [],
   "source": [
    "# your code starts here\n",
    "import numpy as np\n",
    "import pandas as pd\n",
    "from numpy import random\n",
    "\n",
    "random.seed(1776)\n",
    "\n",
    "X_train = pd.DataFrame(random.rand(10, 2), columns=['x1', 'x2'])\n",
    "y_train = np.where(X_train['x1'] > X_train['x2'], 1, -1)\n",
    "\n",
    "X_test = pd.DataFrame(random.rand(5000, 2), columns=['x1', 'x2'])\n",
    "y_test = np.where(X_test['x1'] > X_test['x2'], 1, -1)\n",
    "\n",
    "# import matplotlib.pyplot as plt\n",
    "\n",
    "# plt.scatter(X_train['x1'], X_train['x2'])\n",
    "# plt.ylim([0, 1])\n",
    "# plt.xlim([0, 1])\n",
    "# plt.plot([0, 1], [0, 1], color='black')\n",
    "# plt.show()"
   ]
  },
  {
   "cell_type": "code",
   "execution_count": 28,
   "metadata": {},
   "outputs": [
    {
     "name": "stdout",
     "output_type": "stream",
     "text": [
      "Test accuracy: 0.8452\n"
     ]
    }
   ],
   "source": [
    "from sklearn.metrics import accuracy_score\n",
    "\n",
    "class Perceptron:\n",
    "    #constructor\n",
    "    def __init__ (self, a, initial_w=1):\n",
    "        self.W = None\n",
    "        self.b = None\n",
    "        self.a = a\n",
    "        self.init_w = initial_w\n",
    "    \n",
    "    #predictor to predict on the data based on W\n",
    "    def predict(self, X):\n",
    "        return np.sign(np.dot(X, self.W))\n",
    "    \n",
    "    def fit(self, X, Y, epochs = 1, lr = 1):\n",
    "        if type(X) == pd.core.frame.DataFrame:\n",
    "            X = X.to_numpy()\n",
    "        \n",
    "        self.W = np.full(X.shape[1], float(self.init_w))\n",
    "        self.b = 0\n",
    "        \n",
    "        accuracy = {}\n",
    "        \n",
    "        wt_matrix = []\n",
    "        #for all epochs\n",
    "        for i in range(epochs):\n",
    "            for x, y in zip(X, Y):\n",
    "                if y * np.dot(self.W, x) <= self.a:\n",
    "                    self.W += lr * y * x\n",
    "                    self.b += lr * y\n",
    "                            \n",
    "        #return the weight matrix, that contains weights over all epochs\n",
    "        return np.array(wt_matrix)\n",
    "\n",
    "perceptron = Perceptron(a=0)\n",
    "\n",
    "#epochs = 1000 and lr = 0.3\n",
    "wt_matrix = perceptron.fit(X_train, y_train, 1000, 0.3)\n",
    "\n",
    "#making predictions on test data\n",
    "Y_pred_test = perceptron.predict(X_test)\n",
    "\n",
    "#checking the accuracy of the model\n",
    "print('Test accuracy:', accuracy_score(Y_pred_test, y_test))"
   ]
  },
  {
   "cell_type": "markdown",
   "metadata": {
    "id": "4kineJbrfcg7"
   },
   "source": [
    "**Answer:**\n",
    "\n"
   ]
  },
  {
   "cell_type": "markdown",
   "metadata": {
    "id": "e1D_yfneCWqL"
   },
   "source": [
    "## 3.2"
   ]
  },
  {
   "cell_type": "code",
   "execution_count": 27,
   "metadata": {
    "id": "XHKp0slmDbpj"
   },
   "outputs": [
    {
     "name": "stdout",
     "output_type": "stream",
     "text": [
      "Test accuracy: 0.9554\n"
     ]
    }
   ],
   "source": [
    "hinge = Perceptron(a=1)\n",
    "\n",
    "#epochs = 1000 and lr = 0.3\n",
    "wt_matrix = hinge.fit(X_train, y_train, 1000, 0.3)\n",
    "\n",
    "#making predictions on test data\n",
    "Y_pred_test = hinge.predict(X_test)\n",
    "\n",
    "#checking the accuracy of the model\n",
    "print('Test accuracy:', accuracy_score(Y_pred_test, y_test))"
   ]
  },
  {
   "cell_type": "markdown",
   "metadata": {
    "id": "BX8Ns_Imf-BI"
   },
   "source": [
    "**Answer:**"
   ]
  },
  {
   "cell_type": "markdown",
   "metadata": {
    "id": "TpMHZDOECjD3"
   },
   "source": [
    "## 3.3"
   ]
  },
  {
   "cell_type": "markdown",
   "metadata": {
    "id": "GRo9fm0tf-ga"
   },
   "source": [
    "**Answer:**\n",
    "I obtained better test accuracy for hinge-loss. This is probably because "
   ]
  },
  {
   "cell_type": "markdown",
   "metadata": {
    "id": "YdDLYruzClXn"
   },
   "source": [
    "## 3.4"
   ]
  },
  {
   "cell_type": "markdown",
   "metadata": {
    "id": "RdaMp6ZBf_DF"
   },
   "source": [
    "**Answer:**"
   ]
  }
 ],
 "metadata": {
  "colab": {
   "provenance": [
    {
     "file_id": "1PhSZ041cJNtSg-JBuwhe54li2BwZ-FU1",
     "timestamp": 1696698758231
    },
    {
     "file_id": "12GwdMrKbEAd5XHxh79f33GHPjFW9R-0t",
     "timestamp": 1695179004111
    },
    {
     "file_id": "12aeVVivs_loipocSAlTFheOEygNjC27q",
     "timestamp": 1695178766898
    }
   ]
  },
  "kernelspec": {
   "display_name": "Python 3 (ipykernel)",
   "language": "python",
   "name": "python3"
  },
  "language_info": {
   "codemirror_mode": {
    "name": "ipython",
    "version": 3
   },
   "file_extension": ".py",
   "mimetype": "text/x-python",
   "name": "python",
   "nbconvert_exporter": "python",
   "pygments_lexer": "ipython3",
   "version": "3.11.5"
  }
 },
 "nbformat": 4,
 "nbformat_minor": 1
}
