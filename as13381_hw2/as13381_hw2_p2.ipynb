{
 "cells": [
  {
   "cell_type": "markdown",
   "metadata": {
    "id": "OMAdi9qgC-B9"
   },
   "source": [
    "To copy this template: File -> Save a Copy in Drive\n",
    "\n",
    "***DISCLAIMER**: In case of any discrepancy in the assignment instruction, please refer to the `PDF` document.*"
   ]
  },
  {
   "cell_type": "markdown",
   "metadata": {
    "id": "NcDhlfqyBd6m"
   },
   "source": [
    "# Problem 2 - Precision, Recall, ROC"
   ]
  },
  {
   "cell_type": "markdown",
   "metadata": {
    "id": "-id00ye6CNLB"
   },
   "source": [
    "## 2.1"
   ]
  },
  {
   "cell_type": "markdown",
   "metadata": {
    "id": "4kineJbrfcg7"
   },
   "source": [
    "**Answer:**"
   ]
  },
  {
   "cell_type": "markdown",
   "metadata": {
    "id": "e1D_yfneCWqL"
   },
   "source": [
    "## 2.2"
   ]
  },
  {
   "cell_type": "markdown",
   "metadata": {
    "id": "JqBBk7wkC5B2"
   },
   "source": [
    "**Link to dataset:**"
   ]
  },
  {
   "cell_type": "code",
   "execution_count": null,
   "metadata": {
    "id": "TaITPmRaf-BK"
   },
   "outputs": [],
   "source": [
    "# your code starts here"
   ]
  },
  {
   "cell_type": "markdown",
   "metadata": {
    "id": "BX8Ns_Imf-BI"
   },
   "source": [
    "**Answer:**"
   ]
  }
 ],
 "metadata": {
  "colab": {
   "provenance": [
    {
     "file_id": "1KBixX28LhIylOmXSXHtBUVbdxxr4U2I4",
     "timestamp": 1696698743231
    },
    {
     "file_id": "12aeVVivs_loipocSAlTFheOEygNjC27q",
     "timestamp": 1695178766898
    }
   ]
  },
  "kernelspec": {
   "display_name": "Python 3 (ipykernel)",
   "language": "python",
   "name": "python3"
  },
  "language_info": {
   "codemirror_mode": {
    "name": "ipython",
    "version": 3
   },
   "file_extension": ".py",
   "mimetype": "text/x-python",
   "name": "python",
   "nbconvert_exporter": "python",
   "pygments_lexer": "ipython3",
   "version": "3.11.5"
  }
 },
 "nbformat": 4,
 "nbformat_minor": 1
}
