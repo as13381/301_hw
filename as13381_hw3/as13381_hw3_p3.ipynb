{
 "cells": [
  {
   "cell_type": "markdown",
   "metadata": {
    "id": "OMAdi9qgC-B9"
   },
   "source": [
    "To copy this template: File -> Save a Copy in Drive\n",
    "\n",
    "***DISCLAIMER**: In case of any discrepancy in the assignment instruction, please refer to the `PDF` document.*"
   ]
  },
  {
   "cell_type": "markdown",
   "metadata": {
    "id": "NcDhlfqyBd6m"
   },
   "source": [
    "# Problem 3 - Weight Initialization, Dead Neurons, Leaky ReLU"
   ]
  },
  {
   "cell_type": "markdown",
   "metadata": {
    "id": "-id00ye6CNLB"
   },
   "source": [
    "## 3.1"
   ]
  },
  {
   "cell_type": "code",
   "execution_count": 2,
   "metadata": {
    "id": "TaITPmRaf-BK"
   },
   "outputs": [
    {
     "ename": "ModuleNotFoundError",
     "evalue": "No module named 'tensorflow'",
     "output_type": "error",
     "traceback": [
      "\u001b[1;31m---------------------------------------------------------------------------\u001b[0m",
      "\u001b[1;31mModuleNotFoundError\u001b[0m                       Traceback (most recent call last)",
      "Cell \u001b[1;32mIn[2], line 2\u001b[0m\n\u001b[0;32m      1\u001b[0m \u001b[38;5;66;03m# your code starts here\u001b[39;00m\n\u001b[1;32m----> 2\u001b[0m \u001b[38;5;28;01mimport\u001b[39;00m \u001b[38;5;21;01mtensorflow\u001b[39;00m\u001b[38;5;21;01m.\u001b[39;00m\u001b[38;5;21;01mkeras\u001b[39;00m\n\u001b[0;32m      3\u001b[0m \u001b[38;5;28;01mimport\u001b[39;00m \u001b[38;5;21;01mmatplotlib\u001b[39;00m\u001b[38;5;21;01m.\u001b[39;00m\u001b[38;5;21;01mpyplot\u001b[39;00m \u001b[38;5;28;01mas\u001b[39;00m \u001b[38;5;21;01mplt\u001b[39;00m\n\u001b[0;32m      4\u001b[0m \u001b[38;5;28;01mimport\u001b[39;00m \u001b[38;5;21;01mnumpy\u001b[39;00m \u001b[38;5;28;01mas\u001b[39;00m \u001b[38;5;21;01mnp\u001b[39;00m\n",
      "\u001b[1;31mModuleNotFoundError\u001b[0m: No module named 'tensorflow'"
     ]
    }
   ],
   "source": [
    "# your code starts here\n",
    "import tensorflow.keras\n",
    "import matplotlib.pyplot as plt\n",
    "import numpy as np\n",
    "import pandas as pd\n",
    "import seaborn as sns\n",
    "from tensorflow.keras import initializers\n",
    "from tensorflow.keras.datasets import mnist\n",
    "\n",
    "from utils import (\n",
    "    compile_model,\n",
    "    create_mlp_model,\n",
    "    get_activations,\n",
    "    grid_axes_it,\n",
    ")\n",
    "\n",
    "\n",
    "seed = 10\n",
    "\n",
    "# Number of points to plot\n",
    "n_train = 1000\n",
    "n_test = 100\n",
    "n_classes = 10\n",
    "\n",
    "# Network params\n",
    "n_hidden_layers = 5\n",
    "dim_layer = 100\n",
    "batch_size = n_train\n",
    "epochs = 1\n",
    "\n",
    "# Load and prepare MNIST dataset.\n",
    "n_train = 60000\n",
    "n_test = 10000\n",
    "\n",
    "(x_train, y_train), (x_test, y_test) = mnist.load_data()\n",
    "num_classes = len(np.unique(y_test))\n",
    "data_dim = 28 * 28\n",
    "\n",
    "x_train = x_train.reshape(60000, 784).astype('float32')[:n_train]\n",
    "x_test = x_test.reshape(10000, 784).astype('float32')[:n_train]\n",
    "x_train /= 255\n",
    "x_test /= 255\n",
    "\n",
    "y_train = keras.utils.to_categorical(y_train, num_classes)\n",
    "y_test = keras.utils.to_categorical(y_test, num_classes)\n",
    "\n",
    "# Run the data through a few MLP models and save the activations from\n",
    "# each layer into a Pandas DataFrame.\n",
    "rows = []\n",
    "sigmas = [0.10, 0.14, 0.28]\n",
    "for stddev in sigmas:\n",
    "    init = initializers.RandomNormal(mean=0.0, stddev=stddev, seed=seed)\n",
    "    activation = 'relu'\n",
    "\n",
    "    model = create_mlp_model(\n",
    "        n_hidden_layers,\n",
    "        dim_layer,\n",
    "        (data_dim,),\n",
    "        n_classes,\n",
    "        init,\n",
    "        'zeros',\n",
    "        activation\n",
    "    )\n",
    "    compile_model(model)\n",
    "    output_elts = get_activations(model, x_test)\n",
    "    n_layers = len(model.layers)\n",
    "    i_output_layer = n_layers - 1\n",
    "\n",
    "    for i, out in enumerate(output_elts[:-1]):\n",
    "        if i > 0 and i != i_output_layer:\n",
    "            for out_i in out.ravel()[::20]:\n",
    "                rows.append([i, stddev, out_i])\n",
    "\n",
    "df = pd.DataFrame(rows, columns=['Hidden Layer', 'Standard Deviation', 'Output'])\n",
    "\n",
    "# Plot previously saved activations from the 5 hidden layers\n",
    "# using different initialization schemes.\n",
    "fig = plt.figure(figsize=(12, 6))\n",
    "axes = grid_axes_it(len(sigmas), 1, fig=fig)\n",
    "for sig in sigmas:\n",
    "    ax = next(axes)\n",
    "    ddf = df[df['Standard Deviation'] == sig]\n",
    "    sns.violinplot(x='Hidden Layer', y='Output', data=ddf, ax=ax, scale='count', inner=None)\n",
    "\n",
    "    ax.set_xlabel('')\n",
    "    ax.set_ylabel('')\n",
    "\n",
    "    ax.set_title('Weights Drawn from $N(\\mu = 0, \\sigma = {%.2f})$' % sig, fontsize=13)\n",
    "\n",
    "    if sig == sigmas[1]:\n",
    "        ax.set_ylabel(\"ReLu Neuron Outputs\")\n",
    "    if sig != sigmas[-1]:\n",
    "        ax.set_xticklabels(())\n",
    "    else:\n",
    "        ax.set_xlabel(\"Hidden Layer\")\n",
    "\n",
    "plt.tight_layout()\n",
    "plt.show()"
   ]
  },
  {
   "cell_type": "markdown",
   "metadata": {
    "id": "4kineJbrfcg7"
   },
   "source": [
    "**Answer:**\n",
    "\n"
   ]
  },
  {
   "cell_type": "markdown",
   "metadata": {
    "id": "e1D_yfneCWqL"
   },
   "source": [
    "## 3.2"
   ]
  },
  {
   "cell_type": "code",
   "execution_count": null,
   "metadata": {
    "id": "XHKp0slmDbpj"
   },
   "outputs": [],
   "source": [
    "# your code starts here"
   ]
  },
  {
   "cell_type": "markdown",
   "metadata": {
    "id": "BX8Ns_Imf-BI"
   },
   "source": [
    "**Answer:**"
   ]
  },
  {
   "cell_type": "markdown",
   "metadata": {
    "id": "TpMHZDOECjD3"
   },
   "source": [
    "## 3.3"
   ]
  },
  {
   "cell_type": "code",
   "execution_count": null,
   "metadata": {
    "id": "zMhujl1t-1bx"
   },
   "outputs": [],
   "source": [
    "# your code starts here"
   ]
  },
  {
   "cell_type": "markdown",
   "metadata": {
    "id": "GRo9fm0tf-ga"
   },
   "source": [
    "**Answer:**"
   ]
  },
  {
   "cell_type": "markdown",
   "metadata": {
    "id": "YdDLYruzClXn"
   },
   "source": [
    "## 3.4"
   ]
  },
  {
   "cell_type": "code",
   "execution_count": null,
   "metadata": {
    "id": "njI-8641-1qy"
   },
   "outputs": [],
   "source": [
    "# your code starts here"
   ]
  },
  {
   "cell_type": "markdown",
   "metadata": {
    "id": "RdaMp6ZBf_DF"
   },
   "source": [
    "**Answer:**"
   ]
  }
 ],
 "metadata": {
  "colab": {
   "authorship_tag": "ABX9TyPIkoMBewZ9uMRIOX08OiP+",
   "provenance": [
    {
     "file_id": "12GwdMrKbEAd5XHxh79f33GHPjFW9R-0t",
     "timestamp": 1695179004111
    },
    {
     "file_id": "12aeVVivs_loipocSAlTFheOEygNjC27q",
     "timestamp": 1695178766898
    }
   ]
  },
  "kernelspec": {
   "display_name": "Python 3 (ipykernel)",
   "language": "python",
   "name": "python3"
  },
  "language_info": {
   "codemirror_mode": {
    "name": "ipython",
    "version": 3
   },
   "file_extension": ".py",
   "mimetype": "text/x-python",
   "name": "python",
   "nbconvert_exporter": "python",
   "pygments_lexer": "ipython3",
   "version": "3.11.5"
  }
 },
 "nbformat": 4,
 "nbformat_minor": 1
}
