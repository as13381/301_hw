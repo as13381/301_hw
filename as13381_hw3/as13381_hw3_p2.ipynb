{
 "cells": [
  {
   "cell_type": "markdown",
   "metadata": {
    "id": "OMAdi9qgC-B9"
   },
   "source": [
    "To copy this template: File -> Save a Copy in Drive\n",
    "\n",
    "***DISCLAIMER**: In case of any discrepancy in the assignment instruction, please refer to the `PDF` document.*"
   ]
  },
  {
   "cell_type": "markdown",
   "metadata": {
    "id": "NcDhlfqyBd6m"
   },
   "source": [
    "# Problem 2 - Neural Network Training and Backpropagation"
   ]
  },
  {
   "cell_type": "markdown",
   "metadata": {
    "id": "-id00ye6CNLB"
   },
   "source": [
    "## 2.1"
   ]
  },
  {
   "cell_type": "code",
   "execution_count": 1,
   "metadata": {
    "id": "vTNdohMM9x99"
   },
   "outputs": [],
   "source": [
    "import numpy as np\n",
    "import pandas as pd\n",
    "import matplotlib.pyplot as plt\n",
    "from scipy.io import loadmat\n",
    "%matplotlib inline\n",
    "\n",
    "# sigmoid()\n",
    "def sigmoid(z):\n",
    "    return 1 / (1 + np.exp(-2 * z))"
   ]
  },
  {
   "cell_type": "markdown",
   "metadata": {
    "id": "e1D_yfneCWqL"
   },
   "source": [
    "## 2.2"
   ]
  },
  {
   "cell_type": "code",
   "execution_count": 2,
   "metadata": {
    "id": "TaITPmRaf-BK"
   },
   "outputs": [],
   "source": [
    "# forward_propagate()\n",
    "def forward_propagate(X, theta1, theta2, theta3):\n",
    "    m = X.shape[0]\n",
    "\n",
    "    a1 = np.insert(X, 0, values=np.ones(m), axis=1)\n",
    "    z2 = a1 * theta1.T\n",
    "    a2 = np.insert(sigmoid(z2), 0, values=np.ones(m), axis=1)\n",
    "    z3 = a2 * theta2.T\n",
    "    a3 = np.insert(sigmoid(z3), 0, values=np.ones(m), axis=1)\n",
    "    z4 = a3 @ theta3.T\n",
    "    h = sigmoid(z4)\n",
    "\n",
    "    return a1, z2, a2, z3, a3, z4, h"
   ]
  },
  {
   "cell_type": "markdown",
   "metadata": {
    "id": "_7R7c6Mv91wP"
   },
   "source": [
    "## 2.3"
   ]
  },
  {
   "cell_type": "code",
   "execution_count": 3,
   "metadata": {
    "id": "FGpDkL9--AIN"
   },
   "outputs": [],
   "source": [
    "# cost() without regularization\n",
    "def cost(params, input_size, hidden_size_1, hidden_size_2, num_labels, X, y, learning_rate):\n",
    "    m = X.shape[0]\n",
    "    X = np.matrix(X)\n",
    "    y = np.matrix(y)\n",
    "\n",
    "    # reshape the parameter array into parameter matrices for each layer\n",
    "    theta1 = np.matrix(np.reshape(params[:hidden_size_1 * (input_size + 1)], (hidden_size_1, (input_size + 1))))\n",
    "    theta2 = np.matrix(np.reshape(params[hidden_size_1 * (input_size + 1):hidden_size_1 * (input_size + 1) + hidden_size_2 * (hidden_size_1 + 1)], (hidden_size_2, (hidden_size_1 + 1))))\n",
    "    theta3 = np.matrix(np.reshape(params[hidden_size_1 * (input_size + 1) + hidden_size_2 * (hidden_size_1 + 1):], (num_labels, (hidden_size_2 + 1))))\n",
    "\n",
    "    # run the feed-forward pass\n",
    "    a1, z2, a2, z3, a3, z4, h = forward_propagate(X, theta1, theta2, theta3)\n",
    "\n",
    "    # compute the cost\n",
    "    J = 0\n",
    "    for i in range(m):\n",
    "        first_term = np.multiply(-y[i,:], np.log(h[i,:]))\n",
    "        second_term = np.multiply((1 - y[i,:]), np.log(1 - h[i,:]))\n",
    "        J += np.sum(first_term - second_term)\n",
    "\n",
    "    J = J / m\n",
    "\n",
    "    return J"
   ]
  },
  {
   "cell_type": "code",
   "execution_count": 4,
   "metadata": {
    "id": "1qvvtJX391wQ"
   },
   "outputs": [],
   "source": [
    "# cost() with regularization\n",
    "def cost(params, input_size, hidden_size_1, hidden_size_2, num_labels, X, y, learning_rate):\n",
    "    m = X.shape[0]\n",
    "    X = np.matrix(X)\n",
    "    y = np.matrix(y)\n",
    "\n",
    "    # reshape the parameter array into parameter matrices for each layer\n",
    "    theta1 = np.matrix(np.reshape(params[:hidden_size_1 * (input_size + 1)], (hidden_size_1, (input_size + 1))))\n",
    "    theta2 = np.matrix(np.reshape(params[hidden_size_1 * (input_size + 1):hidden_size_1 * (input_size + 1) + hidden_size_2 * (hidden_size_1 + 1)], (hidden_size_2, (hidden_size_1 + 1))))\n",
    "    theta3 = np.matrix(np.reshape(params[hidden_size_1 * (input_size + 1) + hidden_size_2 * (hidden_size_1 + 1):], (num_labels, (hidden_size_2 + 1))))\n",
    "\n",
    "    # run the feed-forward pass\n",
    "    a1, z2, a2, z3, a3, z4, h = forward_propagate(X, theta1, theta2, theta3)\n",
    "\n",
    "    # compute the cost\n",
    "    J = 0\n",
    "    for i in range(m):\n",
    "        first_term = np.multiply(-y[i,:], np.log(h[i,:]))\n",
    "        second_term = np.multiply((1 - y[i,:]), np.log(1 - h[i,:]))\n",
    "        J += np.sum(first_term - second_term)\n",
    "\n",
    "    J = J / m\n",
    "\n",
    "    # add the cost regularization term\n",
    "    J += (float(learning_rate) / (2 * m)) * (np.sum(np.power(theta1[:,1:], 2)) + np.sum(np.power(theta2[:,1:], 2)) + np.sum(np.power(theta3[:,1:], 2)))\n",
    "\n",
    "    return J"
   ]
  },
  {
   "cell_type": "markdown",
   "metadata": {
    "id": "nrRm_0lM914k"
   },
   "source": [
    "## 2.4"
   ]
  },
  {
   "cell_type": "code",
   "execution_count": 5,
   "metadata": {
    "id": "WGKHQ89q914l"
   },
   "outputs": [],
   "source": [
    "# sigmoid_gradient()\n",
    "def sigmoid_gradient(z):\n",
    "    return np.multiply(sigmoid(z), (1 - sigmoid(z))) * 2"
   ]
  },
  {
   "cell_type": "markdown",
   "metadata": {
    "id": "UFAnt75y92BK"
   },
   "source": [
    "## 2.5"
   ]
  },
  {
   "cell_type": "code",
   "execution_count": 6,
   "metadata": {
    "id": "kNhNbo8Y-KLd"
   },
   "outputs": [],
   "source": [
    "# backprop() without regularization\n",
    "def backprop(params, input_size, hidden_size_1, hidden_size_2, num_labels, X, y, learning_rate):\n",
    "    m = X.shape[0]\n",
    "    X = np.matrix(X)\n",
    "    y = np.matrix(y)\n",
    "\n",
    "    # reshape the parameter array into parameter matrices for each layer\n",
    "    theta1 = np.matrix(np.reshape(params[:hidden_size_1 * (input_size + 1)], (hidden_size_1, (input_size + 1))))\n",
    "    theta2 = np.matrix(np.reshape(params[hidden_size_1 * (input_size + 1):hidden_size_1 * (input_size + 1) + hidden_size_2 * (hidden_size_1 + 1)], (hidden_size_2, (hidden_size_1 + 1))))\n",
    "    theta3 = np.matrix(np.reshape(params[hidden_size_1 * (input_size + 1) + hidden_size_2 * (hidden_size_1 + 1):], (num_labels, (hidden_size_2 + 1))))\n",
    "\n",
    "    # run the feed-forward pass\n",
    "    a1, z2, a2, z3, a3, z4, h = forward_propagate(X, theta1, theta2, theta3)\n",
    "\n",
    "    # initializations\n",
    "    J = 0\n",
    "    delta1 = np.zeros(theta1.shape)  # (25, 401)\n",
    "    delta2 = np.zeros(theta2.shape)  # (10, 26)\n",
    "    delta3 = np.zeros(theta3.shape)\n",
    "\n",
    "    # compute the cost\n",
    "    for i in range(m):\n",
    "        first_term = np.multiply(-y[i,:], np.log(h[i,:]))\n",
    "        second_term = np.multiply((1 - y[i,:]), np.log(1 - h[i,:]))\n",
    "        J += np.sum(first_term - second_term)\n",
    "\n",
    "    J = J / m\n",
    "\n",
    "    # add the cost regularization term\n",
    "    J += (float(learning_rate) / (2 * m)) * (np.sum(np.power(theta1[:,1:], 2)) + np.sum(np.power(theta2[:,1:], 2)) + np.sum(np.power(theta3[:,1:], 2)))\n",
    "\n",
    "    # perform backpropagation\n",
    "    for t in range(m):                \n",
    "        a1t = a1[t,:]  # (1, 401)\n",
    "        z2t = z2[t,:]  # (1, 25)\n",
    "        a2t = a2[t,:]  # (1, 26)\n",
    "        z3t = z3[t,:]\n",
    "        a3t = a3[t,:]\n",
    "        ht = h[t,:]\n",
    "        yt = y[t,:]\n",
    "\n",
    "        d4t = ht - yt\n",
    "\n",
    "        z3t = np.insert(z3t, 0, values=np.ones(1))\n",
    "        d3t = np.multiply((theta3.T * d4t.T).T, sigmoid_gradient(z3t))\n",
    "\n",
    "        z2t = np.insert(z2t, 0, values=np.ones(1))\n",
    "        d2t = np.multiply((theta2.T * d3t[:,1:].T).T, sigmoid_gradient(z2t))\n",
    "\n",
    "        delta1 = delta1 + (d2t[:,1:]).T * a1t\n",
    "        delta2 = delta2 + (d3t[:,1:]).T * a2t\n",
    "        delta3 = delta3 + d4t.T * a3t\n",
    "\n",
    "    delta1 = delta1 / m\n",
    "    delta2 = delta2 / m\n",
    "    delta3 = delta3 / m\n",
    "\n",
    "    # unravel the gradient matrices into a single array\n",
    "    grad = np.concatenate((np.ravel(delta1), np.ravel(delta2), np.ravel(delta3)))\n",
    "\n",
    "    return J, grad"
   ]
  },
  {
   "cell_type": "code",
   "execution_count": 7,
   "metadata": {
    "id": "_LOlywen92BL"
   },
   "outputs": [],
   "source": [
    "# backprop() with regularization\n",
    "def backprop(params, input_size, hidden_size_1, hidden_size_2, num_labels, X, y, learning_rate):\n",
    "    m = X.shape[0]\n",
    "    X = np.matrix(X)\n",
    "    y = np.matrix(y)\n",
    "\n",
    "    # reshape the parameter array into parameter matrices for each layer\n",
    "    theta1 = np.matrix(np.reshape(params[:hidden_size_1 * (input_size + 1)], (hidden_size_1, (input_size + 1))))\n",
    "    theta2 = np.matrix(np.reshape(params[hidden_size_1 * (input_size + 1):hidden_size_1 * (input_size + 1) + hidden_size_2 * (hidden_size_1 + 1)], (hidden_size_2, (hidden_size_1 + 1))))\n",
    "    theta3 = np.matrix(np.reshape(params[hidden_size_1 * (input_size + 1) + hidden_size_2 * (hidden_size_1 + 1):], (num_labels, (hidden_size_2 + 1))))\n",
    "\n",
    "    # run the feed-forward pass\n",
    "    a1, z2, a2, z3, a3, z4, h = forward_propagate(X, theta1, theta2, theta3)\n",
    "\n",
    "    # initializations\n",
    "    J = 0\n",
    "    delta1 = np.zeros(theta1.shape)  # (25, 401)\n",
    "    delta2 = np.zeros(theta2.shape)  # (10, 26)\n",
    "    delta3 = np.zeros(theta3.shape)\n",
    "\n",
    "    # compute the cost\n",
    "    for i in range(m):\n",
    "        first_term = np.multiply(-y[i,:], np.log(h[i,:]))\n",
    "        second_term = np.multiply((1 - y[i,:]), np.log(1 - h[i,:]))\n",
    "        J += np.sum(first_term - second_term)\n",
    "\n",
    "    J = J / m\n",
    "\n",
    "    # add the cost regularization term\n",
    "    J += (float(learning_rate) / (2 * m)) * (np.sum(np.power(theta1[:,1:], 2)) + np.sum(np.power(theta2[:,1:], 2)) + np.sum(np.power(theta3[:,1:], 2)))\n",
    "\n",
    "    # perform backpropagation\n",
    "    for t in range(m):\n",
    "        a1t = a1[t,:]  # (1, 401)\n",
    "        z2t = z2[t,:]  # (1, 25)\n",
    "        a2t = a2[t,:]  # (1, 26)\n",
    "        z3t = z3[t,:]\n",
    "        a3t = a3[t,:]\n",
    "        ht = h[t,:]\n",
    "        yt = y[t,:]\n",
    "\n",
    "        d4t = ht - yt\n",
    "\n",
    "        z3t = np.insert(z3t, 0, values=np.ones(1))\n",
    "        d3t = np.multiply((theta3.T * d4t.T).T, sigmoid_gradient(z3t))\n",
    "\n",
    "        z2t = np.insert(z2t, 0, values=np.ones(1))\n",
    "        d2t = np.multiply((theta2.T * d3t[:,1:].T).T, sigmoid_gradient(z2t))\n",
    "\n",
    "        delta1 = delta1 + (d2t[:,1:]).T * a1t\n",
    "        delta2 = delta2 + (d3t[:,1:]).T * a2t\n",
    "        delta3 = delta3 + d4t.T * a3t\n",
    "\n",
    "    delta1 = delta1 / m\n",
    "    delta2 = delta2 / m\n",
    "    delta3 = delta3 / m\n",
    "\n",
    "    # add the gradient regularization term\n",
    "    delta1[:,1:] = delta1[:,1:] + (theta1[:,1:] * learning_rate) / m\n",
    "    delta2[:,1:] = delta2[:,1:] + (theta2[:,1:] * learning_rate) / m\n",
    "    delta3[:,1:] = delta3[:,1:] + (theta3[:,1:] * learning_rate) / m\n",
    "\n",
    "    # unravel the gradient matrices into a single array\n",
    "    grad = np.concatenate((np.ravel(delta1), np.ravel(delta2), np.ravel(delta3)))\n",
    "\n",
    "    return J, grad"
   ]
  },
  {
   "cell_type": "markdown",
   "metadata": {
    "id": "DpmTkUOL92Hm"
   },
   "source": [
    "## 2.6"
   ]
  },
  {
   "cell_type": "code",
   "execution_count": 8,
   "metadata": {
    "id": "oKP1F-jP92Hn"
   },
   "outputs": [
    {
     "name": "stderr",
     "output_type": "stream",
     "text": [
      "C:\\Users\\as345\\anaconda3\\Lib\\site-packages\\sklearn\\preprocessing\\_encoders.py:972: FutureWarning: `sparse` was renamed to `sparse_output` in version 1.2 and will be removed in 1.4. `sparse_output` is ignored unless you leave `sparse` to its default value.\n",
      "  warnings.warn(\n",
      "C:\\Users\\as345\\AppData\\Local\\Temp\\ipykernel_106512\\1935732658.py:30: OptimizeWarning: Unknown solver options: maxiter\n",
      "  fmin = minimize(fun=backprop, x0=params, args=(input_size, hidden_size_1, hidden_size_2, num_labels, X, y_onehot, learning_rate),\n"
     ]
    },
    {
     "data": {
      "text/plain": [
       " message: Linear search failed\n",
       " success: False\n",
       "  status: 4\n",
       "     fun: 0.10051665259208044\n",
       "       x: [-2.550e-01  3.954e-05 ... -1.271e+00 -3.759e-01]\n",
       "     nit: 43\n",
       "     jac: [-3.500e-05  7.908e-09 ... -2.282e-05 -4.427e-06]\n",
       "    nfev: 889"
      ]
     },
     "execution_count": 8,
     "metadata": {},
     "output_type": "execute_result"
    }
   ],
   "source": [
    "# your code starts here\n",
    "data = loadmat('data/ex3data1.mat')\n",
    "\n",
    "X = data['X']\n",
    "y = data['y']\n",
    "\n",
    "from sklearn.preprocessing import OneHotEncoder\n",
    "encoder = OneHotEncoder(sparse=False)\n",
    "y_onehot = encoder.fit_transform(y)\n",
    "\n",
    "# initial setup\n",
    "input_size = 400\n",
    "hidden_size_1 = 20\n",
    "hidden_size_2 = 20\n",
    "num_labels = 10\n",
    "learning_rate = 1\n",
    "\n",
    "# randomly initialize a parameter array of the size of the full network's parameters\n",
    "params = (np.random.random(size=hidden_size_1 * (input_size + 1) + (hidden_size_1 + 1) * hidden_size_2 + num_labels * (hidden_size_2 + 1)) - 0.5) * 0.25\n",
    "\n",
    "m = X.shape[0]\n",
    "X = np.matrix(X)\n",
    "y = np.matrix(y)\n",
    "\n",
    "J, grad = backprop(params, input_size, hidden_size_1, hidden_size_2, num_labels, X, y_onehot, learning_rate)\n",
    "\n",
    "from scipy.optimize import minimize\n",
    "\n",
    "# minimize the objective function\n",
    "fmin = minimize(fun=backprop, x0=params, args=(input_size, hidden_size_1, hidden_size_2, num_labels, X, y_onehot, learning_rate),\n",
    "                method='TNC', jac=True, options={'maxiter': 250})\n",
    "fmin"
   ]
  },
  {
   "cell_type": "markdown",
   "metadata": {
    "id": "gLPj7Jou92OD"
   },
   "source": [
    "## 2.7"
   ]
  },
  {
   "cell_type": "code",
   "execution_count": 9,
   "metadata": {
    "id": "59v8hLZT92OD"
   },
   "outputs": [
    {
     "name": "stdout",
     "output_type": "stream",
     "text": [
      "accuracy = 100.0%\n"
     ]
    }
   ],
   "source": [
    "# your code starts here\n",
    "X = np.matrix(X)\n",
    "theta1 = np.matrix(np.reshape(fmin.x[:hidden_size_1 * (input_size + 1)], (hidden_size_1, (input_size + 1))))\n",
    "theta2 = np.matrix(np.reshape(fmin.x[hidden_size_1 * (input_size + 1):hidden_size_1 * (input_size + 1) + hidden_size_2 * (hidden_size_1 + 1)], (hidden_size_2, (hidden_size_1 + 1))))\n",
    "theta3 = np.matrix(np.reshape(fmin.x[hidden_size_1 * (input_size + 1) + hidden_size_2 * (hidden_size_1 + 1):], (num_labels, (hidden_size_2 + 1))))\n",
    "\n",
    "a1, z2, a2, z3, a3, z4, h = forward_propagate(X, theta1, theta2, theta3)\n",
    "y_pred = np.array(np.argmax(h, axis=1) + 1)\n",
    "y_pred\n",
    "\n",
    "correct = [1 if a == b else 0 for (a, b) in zip(y_pred, y)]\n",
    "accuracy = (sum(map(int, correct)) / float(len(correct)))\n",
    "print('accuracy = {0}%'.format(accuracy * 100))"
   ]
  },
  {
   "cell_type": "markdown",
   "metadata": {
    "id": "QdXYjW4l92VA"
   },
   "source": [
    "## 2.8"
   ]
  },
  {
   "cell_type": "markdown",
   "metadata": {
    "id": "45i7WFxc-Wyu"
   },
   "source": [
    "**Answer:**\n"
   ]
  }
 ],
 "metadata": {
  "colab": {
   "authorship_tag": "ABX9TyPcmggMN+a5GKQnwEq/dlEB",
   "provenance": [
    {
     "file_id": "12aeVVivs_loipocSAlTFheOEygNjC27q",
     "timestamp": 1695178766898
    }
   ]
  },
  "kernelspec": {
   "display_name": "Python 3 (ipykernel)",
   "language": "python",
   "name": "python3"
  },
  "language_info": {
   "codemirror_mode": {
    "name": "ipython",
    "version": 3
   },
   "file_extension": ".py",
   "mimetype": "text/x-python",
   "name": "python",
   "nbconvert_exporter": "python",
   "pygments_lexer": "ipython3",
   "version": "3.9.18"
  }
 },
 "nbformat": 4,
 "nbformat_minor": 1
}
