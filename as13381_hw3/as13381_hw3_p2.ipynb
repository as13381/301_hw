{
 "cells": [
  {
   "cell_type": "markdown",
   "metadata": {
    "id": "OMAdi9qgC-B9"
   },
   "source": [
    "To copy this template: File -> Save a Copy in Drive\n",
    "\n",
    "***DISCLAIMER**: In case of any discrepancy in the assignment instruction, please refer to the `PDF` document.*"
   ]
  },
  {
   "cell_type": "markdown",
   "metadata": {
    "id": "NcDhlfqyBd6m"
   },
   "source": [
    "# Problem 2 - Neural Network Training and Backpropagation"
   ]
  },
  {
   "cell_type": "markdown",
   "metadata": {
    "id": "-id00ye6CNLB"
   },
   "source": [
    "## 2.1"
   ]
  },
  {
   "cell_type": "code",
   "execution_count": null,
   "metadata": {
    "id": "vTNdohMM9x99"
   },
   "outputs": [],
   "source": [
    "# sigmoid()\n",
    "def sigmoid(z):\n",
    "    return 1 / (1 + np.exp(-z))"
   ]
  },
  {
   "cell_type": "markdown",
   "metadata": {
    "id": "e1D_yfneCWqL"
   },
   "source": [
    "## 2.2"
   ]
  },
  {
   "cell_type": "code",
   "execution_count": null,
   "metadata": {
    "id": "TaITPmRaf-BK"
   },
   "outputs": [],
   "source": [
    "# forward_propagate()"
   ]
  },
  {
   "cell_type": "markdown",
   "metadata": {
    "id": "_7R7c6Mv91wP"
   },
   "source": [
    "## 2.3"
   ]
  },
  {
   "cell_type": "code",
   "execution_count": null,
   "metadata": {
    "id": "FGpDkL9--AIN"
   },
   "outputs": [],
   "source": [
    "# cost() without regularization"
   ]
  },
  {
   "cell_type": "code",
   "execution_count": null,
   "metadata": {
    "id": "1qvvtJX391wQ"
   },
   "outputs": [],
   "source": [
    "# cost() with regularization"
   ]
  },
  {
   "cell_type": "markdown",
   "metadata": {
    "id": "nrRm_0lM914k"
   },
   "source": [
    "## 2.4"
   ]
  },
  {
   "cell_type": "code",
   "execution_count": null,
   "metadata": {
    "id": "WGKHQ89q914l"
   },
   "outputs": [],
   "source": [
    "# sigmoid_gradient()"
   ]
  },
  {
   "cell_type": "markdown",
   "metadata": {
    "id": "UFAnt75y92BK"
   },
   "source": [
    "## 2.5"
   ]
  },
  {
   "cell_type": "code",
   "execution_count": null,
   "metadata": {
    "id": "kNhNbo8Y-KLd"
   },
   "outputs": [],
   "source": [
    "# backprop() without regularization"
   ]
  },
  {
   "cell_type": "code",
   "execution_count": null,
   "metadata": {
    "id": "_LOlywen92BL"
   },
   "outputs": [],
   "source": [
    "# backprop() with regularization"
   ]
  },
  {
   "cell_type": "markdown",
   "metadata": {
    "id": "DpmTkUOL92Hm"
   },
   "source": [
    "## 2.6"
   ]
  },
  {
   "cell_type": "code",
   "execution_count": null,
   "metadata": {
    "id": "oKP1F-jP92Hn"
   },
   "outputs": [],
   "source": [
    "# your code starts here"
   ]
  },
  {
   "cell_type": "markdown",
   "metadata": {
    "id": "gLPj7Jou92OD"
   },
   "source": [
    "## 2.7"
   ]
  },
  {
   "cell_type": "code",
   "execution_count": null,
   "metadata": {
    "id": "59v8hLZT92OD"
   },
   "outputs": [],
   "source": [
    "# your code starts here"
   ]
  },
  {
   "cell_type": "markdown",
   "metadata": {
    "id": "QdXYjW4l92VA"
   },
   "source": [
    "## 2.8"
   ]
  },
  {
   "cell_type": "markdown",
   "metadata": {
    "id": "45i7WFxc-Wyu"
   },
   "source": [
    "**Answer:**\n"
   ]
  }
 ],
 "metadata": {
  "colab": {
   "authorship_tag": "ABX9TyPcmggMN+a5GKQnwEq/dlEB",
   "provenance": [
    {
     "file_id": "12aeVVivs_loipocSAlTFheOEygNjC27q",
     "timestamp": 1695178766898
    }
   ]
  },
  "kernelspec": {
   "display_name": "Python 3 (ipykernel)",
   "language": "python",
   "name": "python3"
  },
  "language_info": {
   "codemirror_mode": {
    "name": "ipython",
    "version": 3
   },
   "file_extension": ".py",
   "mimetype": "text/x-python",
   "name": "python",
   "nbconvert_exporter": "python",
   "pygments_lexer": "ipython3",
   "version": "3.11.4"
  }
 },
 "nbformat": 4,
 "nbformat_minor": 1
}
